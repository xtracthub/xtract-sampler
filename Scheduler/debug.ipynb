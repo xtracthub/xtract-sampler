{
 "cells": [
  {
   "cell_type": "code",
   "execution_count": 1,
   "metadata": {},
   "outputs": [],
   "source": [
    "import os\n",
    "import pickle\n",
    "from math import log\n",
    "import numpy as np\n",
    "import json\n",
    "import csv"
   ]
  },
  {
   "cell_type": "code",
   "execution_count": 3,
   "metadata": {},
   "outputs": [
    {
     "name": "stdout",
     "output_type": "stream",
     "text": [
      "hdf {'extraction_time': Pipeline(steps=[('Scaler', StandardScaler()),\n",
      "                ('GBM', GradientBoostingRegressor())]), 'extraction_size': 40.72260328303331}\n",
      "images {'extraction_time': 0.22014920153511905, 'extraction_size': 39.7841578245005}\n",
      "jsonxml {'extraction_time': Pipeline(steps=[('Scaler', StandardScaler()), ('LR', LinearRegression())]), 'extraction_size': 142.0397360881697}\n",
      "c-code {'extraction_time': 0.06008284330800134, 'extraction_size': 40.9521216532751}\n",
      "python {'extraction_time': 0.3920863310823814, 'extraction_size': 42.131741276818126}\n",
      "keyword {'extraction_time': 11.924488684942625, 'extraction_size': 120.69386974252733}\n",
      "netcdf {'extraction_time': 0.025175437934855372, 'extraction_size': 51.90911932958183}\n",
      "tabular {'extraction_time': Pipeline(steps=[('Scaler', StandardScaler()), ('LR', LinearRegression())]), 'extraction_size': 59766.61794376476}\n"
     ]
    }
   ],
   "source": [
    "models_dir = os.path.abspath(\"cdiac_model_piles/\")\n",
    "model_piles = dict()\n",
    "for subdir, dirs, files in os.walk(models_dir):\n",
    "\tfor file_name in files:\t\t\n",
    "\t\textractor_name = file_name.split(\"_\")[2].split(\".\")[0]\n",
    "\t\tfile_path = os.path.join(subdir, file_name)\n",
    "\t\twith open(file_path, \"rb\") as f:\n",
    "\t\t\tmodel_piles[extractor_name] = pickle.load(f)\n",
    "\n",
    "for k, v in model_piles.items():\n",
    "\tprint(k, v)"
   ]
  },
  {
   "cell_type": "code",
   "execution_count": null,
   "metadata": {},
   "outputs": [],
   "source": []
  }
 ],
 "metadata": {
  "interpreter": {
   "hash": "31f2aee4e71d21fbe5cf8b01ff0e069b9275f58929596ceb00d14d90e3e16cd6"
  },
  "kernelspec": {
   "display_name": "Python 3.8.10 64-bit",
   "language": "python",
   "name": "python3"
  },
  "language_info": {
   "codemirror_mode": {
    "name": "ipython",
    "version": 3
   },
   "file_extension": ".py",
   "mimetype": "text/x-python",
   "name": "python",
   "nbconvert_exporter": "python",
   "pygments_lexer": "ipython3",
   "version": "3.8.10"
  },
  "orig_nbformat": 4
 },
 "nbformat": 4,
 "nbformat_minor": 2
}
