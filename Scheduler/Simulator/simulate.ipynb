{
 "cells": [
  {
   "cell_type": "code",
   "execution_count": 26,
   "source": [
    "import sys, os\n",
    "sys.path.append(os.path.abspath(\"..\"))\n",
    "sys.path.append(os.path.abspath(\"../../\"))\n",
    "from scheduler import Scheduler, file_estimated_cost\n",
    "import pandas as pd\n",
    "import pickle as pkl\n",
    "import heapq\n",
    "import json"
   ],
   "outputs": [],
   "metadata": {}
  },
  {
   "cell_type": "code",
   "execution_count": 24,
   "source": [
    "with open(\"../queue.pkl\", \"rb\") as fp:\n",
    "\tqueue =\tpkl.load(fp)\n",
    "with open(\"../AggregateExtractionTimes/estimate_times.json\", \"r\") as fp:\n",
    "\ttimes = json.load(fp)"
   ],
   "outputs": [],
   "metadata": {}
  },
  {
   "cell_type": "code",
   "execution_count": 28,
   "source": [
    "count = 0\n",
    "real = 0\n",
    "for i in range(len(queue)):\n",
    "\tfile_item = queue[i]\n",
    "\tif file_item.best_extractor_index() == 2 or times[file_item.get_filename()][file_item.best_extractor_index()] == 0:\n",
    "\t\tcount += 1\n",
    "\telse:\n",
    "\t\treal += 1\n",
    "\n",
    "print(\"None: \", count)\n",
    "print(\"Real: \", real)"
   ],
   "outputs": [
    {
     "output_type": "error",
     "ename": "AttributeError",
     "evalue": "'file_estimated_cost' object has no attribute 'best_extractor_index'",
     "traceback": [
      "\u001b[0;31m---------------------------------------------------------------------------\u001b[0m",
      "\u001b[0;31mAttributeError\u001b[0m                            Traceback (most recent call last)",
      "\u001b[0;32m/tmp/ipykernel_3170418/954908036.py\u001b[0m in \u001b[0;36m<module>\u001b[0;34m\u001b[0m\n\u001b[1;32m      3\u001b[0m \u001b[0;32mfor\u001b[0m \u001b[0mi\u001b[0m \u001b[0;32min\u001b[0m \u001b[0mrange\u001b[0m\u001b[0;34m(\u001b[0m\u001b[0mlen\u001b[0m\u001b[0;34m(\u001b[0m\u001b[0mqueue\u001b[0m\u001b[0;34m)\u001b[0m\u001b[0;34m)\u001b[0m\u001b[0;34m:\u001b[0m\u001b[0;34m\u001b[0m\u001b[0;34m\u001b[0m\u001b[0m\n\u001b[1;32m      4\u001b[0m         \u001b[0mfile_item\u001b[0m \u001b[0;34m=\u001b[0m \u001b[0mqueue\u001b[0m\u001b[0;34m[\u001b[0m\u001b[0mi\u001b[0m\u001b[0;34m]\u001b[0m\u001b[0;34m\u001b[0m\u001b[0;34m\u001b[0m\u001b[0m\n\u001b[0;32m----> 5\u001b[0;31m         \u001b[0;32mif\u001b[0m \u001b[0mfile_item\u001b[0m\u001b[0;34m.\u001b[0m\u001b[0mbest_extractor_index\u001b[0m\u001b[0;34m(\u001b[0m\u001b[0;34m)\u001b[0m \u001b[0;34m==\u001b[0m \u001b[0;36m2\u001b[0m \u001b[0;32mor\u001b[0m \u001b[0mtimes\u001b[0m\u001b[0;34m[\u001b[0m\u001b[0mfile_item\u001b[0m\u001b[0;34m.\u001b[0m\u001b[0mget_filename\u001b[0m\u001b[0;34m(\u001b[0m\u001b[0;34m)\u001b[0m\u001b[0;34m]\u001b[0m\u001b[0;34m[\u001b[0m\u001b[0mfile_item\u001b[0m\u001b[0;34m.\u001b[0m\u001b[0mbest_extractor_index\u001b[0m\u001b[0;34m(\u001b[0m\u001b[0;34m)\u001b[0m\u001b[0;34m]\u001b[0m \u001b[0;34m==\u001b[0m \u001b[0;36m0\u001b[0m\u001b[0;34m:\u001b[0m\u001b[0;34m\u001b[0m\u001b[0;34m\u001b[0m\u001b[0m\n\u001b[0m\u001b[1;32m      6\u001b[0m                 \u001b[0mcount\u001b[0m \u001b[0;34m+=\u001b[0m \u001b[0;36m1\u001b[0m\u001b[0;34m\u001b[0m\u001b[0;34m\u001b[0m\u001b[0m\n\u001b[1;32m      7\u001b[0m         \u001b[0;32melse\u001b[0m\u001b[0;34m:\u001b[0m\u001b[0;34m\u001b[0m\u001b[0;34m\u001b[0m\u001b[0m\n",
      "\u001b[0;31mAttributeError\u001b[0m: 'file_estimated_cost' object has no attribute 'best_extractor_index'"
     ]
    }
   ],
   "metadata": {}
  },
  {
   "cell_type": "code",
   "execution_count": 19,
   "source": [
    "def simulate_single_file_extraction(queue):\n",
    "\tbest_index = 2 # 2 represents unknown\n",
    "\textraction_time = 0\n",
    "\twhile best_index == 2 or extraction_time == 0: # nonzero extraction time AND not unknown\n",
    "\t\tfile_item = heapq.heappop(queue)\n",
    "\t\tbest_index = file_item.best_extractor_index()\n",
    "\t\textraction_time = times[file_item.get_filename][file_item.best_extractor_index()]\n",
    "\t\n",
    "\t"
   ],
   "outputs": [],
   "metadata": {}
  },
  {
   "cell_type": "code",
   "execution_count": 20,
   "source": [
    "simulate_single_file_extraction(queue)"
   ],
   "outputs": [
    {
     "output_type": "stream",
     "name": "stdout",
     "text": [
      "14287\n",
      "      Unnamed: 0                                           filename  \\\n",
      "1357        1357  /home/cc/CDIACPub8/CdiacBundles/33RO/RB1402_Re...   \n",
      "\n",
      "      crawl_time  feature_extract_time  predict_time  heap_insert_time  \\\n",
      "1357    0.001198                0.0007      0.036568          0.000309   \n",
      "\n",
      "      metadata_extract_time  \n",
      "1357           1.131830e+06  \n",
      "<class 'numpy.float64'>\n",
      "1131829.6175782718\n"
     ]
    }
   ],
   "metadata": {}
  },
  {
   "cell_type": "code",
   "execution_count": null,
   "source": [],
   "outputs": [],
   "metadata": {}
  }
 ],
 "metadata": {
  "orig_nbformat": 4,
  "language_info": {
   "name": "python",
   "version": "3.8.10",
   "mimetype": "text/x-python",
   "codemirror_mode": {
    "name": "ipython",
    "version": 3
   },
   "pygments_lexer": "ipython3",
   "nbconvert_exporter": "python",
   "file_extension": ".py"
  },
  "kernelspec": {
   "name": "python3",
   "display_name": "Python 3.8.10 64-bit ('usr')"
  },
  "interpreter": {
   "hash": "767d51c1340bd893661ea55ea3124f6de3c7a262a8b4abca0554b478b1e2ff90"
  }
 },
 "nbformat": 4,
 "nbformat_minor": 2
}