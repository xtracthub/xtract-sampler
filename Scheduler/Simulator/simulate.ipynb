{
 "cells": [
  {
   "cell_type": "code",
   "execution_count": 1,
   "source": [
    "import sys, os\n",
    "sys.path.append(os.path.abspath(\"..\"))\n",
    "sys.path.append(os.path.abspath(\"../../\"))\n",
    "from scheduler import Scheduler, file_estimated_cost\n",
    "import pandas as pd\n",
    "import pickle as pkl\n",
    "import heapq\n",
    "import time\n",
    "import multiprocessing as mp"
   ],
   "outputs": [],
   "metadata": {}
  },
  {
   "cell_type": "code",
   "execution_count": 2,
   "source": [
    "with open(\"../queue.pkl\", \"rb\") as fp:\n",
    "\tqueue =\tpkl.load(fp)\n",
    "ExtractionTimes = pd.read_csv(\"../AggregateExtractionTimes/ExtractionTimes.csv\", index_col=0)"
   ],
   "outputs": [],
   "metadata": {}
  },
  {
   "cell_type": "code",
   "execution_count": 3,
   "source": [
    "count = 0\n",
    "real = 0\n",
    "empty = 0\n",
    "for i in range(len(queue)):\n",
    "\tfile_item = queue[i]\n",
    "\tbest_extractor_index = file_item.best_extractor_index()\n",
    "\tfilename = file_item.get_filename()\n",
    "\t\n",
    "\t'''\n",
    "\tif filename in ExtractionTimes.index:\n",
    "\t\tprint(\"It's in here\")\n",
    "\t'''\n",
    "\ttry:\n",
    "\t\tbest_time = ExtractionTimes.loc[filename][best_extractor_index]\n",
    "\t\tif best_extractor_index == 2:\n",
    "\t\t\tassert best_time == 5\n",
    "\texcept IndexError:\n",
    "\t\tprint(ExtractionTimes[filename])\n",
    "\t\tprint(best_extractor_index)\n",
    "\t\tbreak\n",
    "\n",
    "\tif os.path.getsize(filename) == 0:\n",
    "\t\tempty += 1\n",
    "\n",
    "\tif best_extractor_index == 2 or best_time == 0:\n",
    "\t\tcount += 1\n",
    "\t\tif os.path.getsize(filename) == 0:\n",
    "\t\t\tprint(filename)\n",
    "\telse:\n",
    "\t\treal += 1\n",
    "print(\"None: \", count)\n",
    "print(\"Real: \", real)\n",
    "print(\"Empty: \", empty)"
   ],
   "outputs": [
    {
     "output_type": "stream",
     "name": "stdout",
     "text": [
      "/home/cc/CDIACPub8/Hydrochem_data/.gmtcommands4\n",
      "/home/cc/CDIACPub8/oceans/David_Starr/README\n",
      "/home/cc/CDIACPub8/oceans/David_Starr/README~\n",
      "/home/cc/CDIACPub8/oceans/McArthurII/README\n",
      "/home/cc/CDIACPub8/oceans/CARINA/S.JohnsonI/README\n",
      "/home/cc/CDIACPub8/oceans/SOCCOM/096U20160314/Hydrochem_data/.gmtcommands4\n",
      "/home/cc/CDIACPub8/oceans/ryofumaru10jap/README~\n",
      "None:  10266\n",
      "Real:  10103\n",
      "Empty:  7\n"
     ]
    }
   ],
   "metadata": {}
  },
  {
   "cell_type": "code",
   "execution_count": 4,
   "source": [
    "def simulate_single_file_extraction(queue):\n",
    "\tbest_index = 2 # 2 represents unknown\n",
    "\textraction_time = 0\n",
    "\twhile best_index == 2 or extraction_time == 5: # nonzero extraction time AND not unknown\n",
    "\t\tfile_item = heapq.heappop(queue)\n",
    "\t\tbest_index = file_item.best_extractor_index()\n",
    "\t\textraction_time = ExtractionTimes.loc[file_item.get_filename()][file_item.best_extractor_index()]\n",
    "\ttime.sleep(extraction_time)\n",
    "\t\n",
    "\t"
   ],
   "outputs": [],
   "metadata": {}
  },
  {
   "cell_type": "code",
   "execution_count": 5,
   "source": [
    "print(mp.cpu_count())"
   ],
   "outputs": [
    {
     "output_type": "stream",
     "name": "stdout",
     "text": [
      "48\n"
     ]
    }
   ],
   "metadata": {}
  },
  {
   "cell_type": "code",
   "execution_count": 10,
   "source": [
    "processes=[mp.Process(target=simulate_single_file_extraction, args=(queue,)) for x in range(0, mp.cpu_count())]\n",
    "\n",
    "for p in processes:\n",
    "    p.start()\n",
    "\n",
    "for p in processes:\n",
    "    p.join()\n",
    "\n"
   ],
   "outputs": [],
   "metadata": {}
  }
 ],
 "metadata": {
  "orig_nbformat": 4,
  "language_info": {
   "name": "python",
   "version": "3.8.10",
   "mimetype": "text/x-python",
   "codemirror_mode": {
    "name": "ipython",
    "version": 3
   },
   "pygments_lexer": "ipython3",
   "nbconvert_exporter": "python",
   "file_extension": ".py"
  },
  "kernelspec": {
   "name": "python3",
   "display_name": "Python 3.8.10 64-bit ('usr')"
  },
  "interpreter": {
   "hash": "767d51c1340bd893661ea55ea3124f6de3c7a262a8b4abca0554b478b1e2ff90"
  }
 },
 "nbformat": 4,
 "nbformat_minor": 2
}