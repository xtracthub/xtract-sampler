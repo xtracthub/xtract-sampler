{
 "cells": [
  {
   "cell_type": "code",
   "execution_count": 7,
   "source": [
    "import sys, os\n",
    "sys.path.append(os.path.abspath(\"..\"))\n",
    "sys.path.append(os.path.abspath(\"../../\"))\n",
    "from scheduler import Scheduler, file_estimated_cost\n",
    "import pandas as pd\n",
    "import pickle as pkl\n",
    "import heapq\n",
    "import time\n",
    "import multiprocessing as mp"
   ],
   "outputs": [],
   "metadata": {}
  },
  {
   "cell_type": "code",
   "execution_count": 14,
   "source": [
    "with open(\"../queue.pkl\", \"rb\") as fp:\n",
    "\tqueue =\tpkl.load(fp)\n",
    "\n",
    "ExtractionSizes = pd.read_csv(\"../AggregateExtractionTimes/ExtractionSizes.csv\", index_col=0)\n",
    "ExtractionTimes = pd.read_csv(\"../AggregateExtractionTimes/ExtractionTimes.csv\", index_col=0)\n",
    "\n",
    "print(len(queue))"
   ],
   "outputs": [
    {
     "output_type": "stream",
     "name": "stdout",
     "text": [
      "20369\n"
     ]
    }
   ],
   "metadata": {}
  },
  {
   "cell_type": "code",
   "execution_count": 9,
   "source": [
    "count = 0\n",
    "real = 0\n",
    "empty = 0\n",
    "\n",
    "\n",
    "kw = 0\n",
    "tab = 0\n",
    "unknown = 0\n",
    "jsonxml = 0\n",
    "netcdf = 0\n",
    "image = 0\n",
    "\n",
    "for i in range(len(queue)):\n",
    "\tfile_item = queue[i]\n",
    "\tbest_index = file_item.best_extractor_index()\n",
    "\tfilename = file_item.get_filename()\n",
    "\tbest_time = ExtractionTimes.loc[filename][best_index]\n",
    "\tif best_index == 2:\n",
    "\t\tassert best_time == 5\n",
    "\t\tcount += 1\n",
    "\n",
    "\tif os.path.getsize(filename) == 0:\n",
    "\t\tempty += 1\n",
    "\telse:\t\n",
    "\t\tif best_index == 0:\n",
    "\t\t\tkw += 1\n",
    "\t\telif best_index == 1: \n",
    "\t\t\ttab += 1\n",
    "\t\telif best_index == 2:\n",
    "\t\t\tunknown += 1\n",
    "\t\telif best_index == 3: \n",
    "\t\t\tjsonxml += 1\n",
    "\t\telif netcdf == 4:\n",
    "\t\t\tnetcdf += 1\n",
    "\t\telse:\n",
    "\t\t\timage += 1\n",
    "\n",
    "\n",
    "print(\"Unknown Extractor: \", count)\n",
    "print(\"Best Extractor is empty: \", empty)\n",
    "print(\"Keywords:\", kw)\n",
    "print(\"Tabular:\", tab)\n",
    "print(\"Unknown:\", unknown)\n",
    "print(\"JSONXML:\", jsonxml)\n",
    "print(\"NetCDF:\", netcdf)\n",
    "print(\"Image:\", image)\n",
    "\n"
   ],
   "outputs": [
    {
     "output_type": "stream",
     "name": "stdout",
     "text": [
      "Unknown Extractor:  73\n",
      "Best Extractor is empty:  7\n",
      "Keywords: 2935\n",
      "Tabular: 6196\n",
      "Unknown: 73\n",
      "JSONXML: 3180\n",
      "NetCDF: 0\n",
      "Image: 7978\n"
     ]
    }
   ],
   "metadata": {}
  },
  {
   "cell_type": "code",
   "execution_count": 13,
   "source": [
    "def simulate_single_file_extraction(queue, iter, lock, ExtractionTimes, ExtractionSizes):\n",
    "\tbest_index = 2 # 2 represents unknown\n",
    "\textraction_time = 5\n",
    "\twhile len(queue) > 0: # nonzero extraction time AND not unknown\n",
    "\t\tfile_item = heapq.heappop(queue)\n",
    "\t\tbest_index = file_item.best_extractor_index()\n",
    "\t\tif best_index == 2 or extraction_time == 5:\n",
    "\t\t\tcontinue\n",
    "\n",
    "\n",
    "\t\textraction_time = ExtractionTimes.loc[file_item.get_filename()][best_index]\n",
    "\t'''\n",
    "\tif ExtractionSizes[file_item.get_filename()][best_index] > 0:\t\n",
    "\t\tlock.acquire()\n",
    "\t\ttry:\n",
    "\t\t\t\n",
    "\t\t\tif best_index == 0:\n",
    "\t\t\t\tkw.value += 1\n",
    "\t\t\telif best_index == 1: \n",
    "\t\t\t\ttab.value += 1\n",
    "\t\t\telif best_index == 2:\n",
    "\t\t\t\tunknown.value += 1\n",
    "\t\t\telif best_index == 3: \n",
    "\t\t\t\tjsonxml.value += 1\n",
    "\t\t\telif netcdf == 4:\n",
    "\t\t\t\tnetcdf.value += 1\n",
    "\t\t\telse:\n",
    "\t\t\t\timage.value += 1\n",
    "\t\tfinally:\n",
    "\t\t\tlock.release()\n",
    "\t'''\n",
    "\n",
    "\ttime.sleep(extraction_time)\n",
    "\t\n",
    "\tlock.acquire()\n",
    "\ttry:\n",
    "\t\titer.value += 1\n",
    "\tfinally:\n",
    "\t\tlock.release()\n",
    "\t"
   ],
   "outputs": [],
   "metadata": {}
  },
  {
   "cell_type": "code",
   "execution_count": null,
   "source": [
    "print(mp.cpu_count())"
   ],
   "outputs": [],
   "metadata": {}
  },
  {
   "cell_type": "code",
   "execution_count": 15,
   "source": [
    "start_time = time.time()\n",
    "iterations = mp.Value(\"i\", 0)\n",
    "\n",
    "lock = mp.Lock()\n",
    "processes=[mp.Process(target=simulate_single_file_extraction, args=(queue, iterations, lock, ExtractionTimes,\n",
    "                              ExtractionSizes)) for x in range(0, mp.cpu_count())]\n",
    "\n",
    "for p in processes:\n",
    "    p.start()\n",
    "\n",
    "for p in processes:\n",
    "    p.join()\n",
    "\n",
    "print(iterations)\n",
    "print(\"--- %s seconds ---\" % (time.time() - start_time))"
   ],
   "outputs": [
    {
     "output_type": "stream",
     "name": "stdout",
     "text": [
      "<Synchronized wrapper for c_int(48)>\n",
      "--- 11.376144170761108 seconds ---\n"
     ]
    }
   ],
   "metadata": {}
  },
  {
   "cell_type": "code",
   "execution_count": null,
   "source": [],
   "outputs": [],
   "metadata": {}
  }
 ],
 "metadata": {
  "orig_nbformat": 4,
  "language_info": {
   "name": "python",
   "version": "3.8.10",
   "mimetype": "text/x-python",
   "codemirror_mode": {
    "name": "ipython",
    "version": 3
   },
   "pygments_lexer": "ipython3",
   "nbconvert_exporter": "python",
   "file_extension": ".py"
  },
  "kernelspec": {
   "name": "python3",
   "display_name": "Python 3.8.10 64-bit"
  },
  "interpreter": {
   "hash": "e7370f93d1d0cde622a1f8e1c04877d8463912d04d973331ad4851f04de6915a"
  }
 },
 "nbformat": 4,
 "nbformat_minor": 2
}