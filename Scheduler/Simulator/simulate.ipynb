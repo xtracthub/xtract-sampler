{
 "cells": [
  {
   "cell_type": "code",
   "execution_count": 5,
   "source": [
    "import sys, os\n",
    "sys.path.append(os.path.abspath(\"..\"))\n",
    "sys.path.append(os.path.abspath(\"../../\"))\n",
    "from scheduler import Scheduler, file_estimated_cost\n",
    "import pandas as pd\n",
    "import pickle as pkl\n",
    "import heapq"
   ],
   "outputs": [],
   "metadata": {}
  },
  {
   "cell_type": "code",
   "execution_count": 6,
   "source": [
    "times = pd.read_csv(\"../times.csv\")\n",
    "with open(\"../queue.pkl\", \"rb\") as fp:\n",
    "\tqueue =\tpkl.load(fp)"
   ],
   "outputs": [],
   "metadata": {}
  },
  {
   "cell_type": "code",
   "execution_count": 19,
   "source": [
    "def simulate_single_file_extraction(queue):\n",
    "\tfile_item = heapq.heappop(queue)\n",
    "\tprint(os.path.getsize(file_item.get_filename()))\n",
    "\textract_time = times.loc[times[\"filename\"] == file_item.get_filename(), \"metadata_extract_time\"].iloc[0]\n",
    "\tprint(times.loc[times[\"filename\"] == file_item.get_filename()])\t\n",
    "\tprint(type(extract_time))\n",
    "\tprint(extract_time)"
   ],
   "outputs": [],
   "metadata": {}
  },
  {
   "cell_type": "code",
   "execution_count": 20,
   "source": [
    "simulate_single_file_extraction(queue)"
   ],
   "outputs": [
    {
     "output_type": "stream",
     "name": "stdout",
     "text": [
      "14287\n",
      "      Unnamed: 0                                           filename  \\\n",
      "1357        1357  /home/cc/CDIACPub8/CdiacBundles/33RO/RB1402_Re...   \n",
      "\n",
      "      crawl_time  feature_extract_time  predict_time  heap_insert_time  \\\n",
      "1357    0.001198                0.0007      0.036568          0.000309   \n",
      "\n",
      "      metadata_extract_time  \n",
      "1357           1.131830e+06  \n",
      "<class 'numpy.float64'>\n",
      "1131829.6175782718\n"
     ]
    }
   ],
   "metadata": {}
  },
  {
   "cell_type": "code",
   "execution_count": null,
   "source": [],
   "outputs": [],
   "metadata": {}
  }
 ],
 "metadata": {
  "orig_nbformat": 4,
  "language_info": {
   "name": "python",
   "version": "3.8.10",
   "mimetype": "text/x-python",
   "codemirror_mode": {
    "name": "ipython",
    "version": 3
   },
   "pygments_lexer": "ipython3",
   "nbconvert_exporter": "python",
   "file_extension": ".py"
  },
  "kernelspec": {
   "name": "python3",
   "display_name": "Python 3.8.10 64-bit ('usr')"
  },
  "interpreter": {
   "hash": "767d51c1340bd893661ea55ea3124f6de3c7a262a8b4abca0554b478b1e2ff90"
  }
 },
 "nbformat": 4,
 "nbformat_minor": 2
}