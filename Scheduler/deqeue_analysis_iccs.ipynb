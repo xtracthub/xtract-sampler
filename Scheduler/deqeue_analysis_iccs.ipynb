{
 "cells": [
  {
   "cell_type": "code",
   "execution_count": 8,
   "metadata": {},
   "outputs": [],
   "source": [
    "import json, os, re\n",
    "import numpy as np\n",
    "import matplotlib.pyplot as plt\n",
    "import matplotlib.cbook as cbook\n",
    "import pickle as pkl\n",
    "import pandas as pd"
   ]
  },
  {
   "cell_type": "code",
   "execution_count": 9,
   "metadata": {},
   "outputs": [],
   "source": [
    "with open(\"cdiac_priority_list\", 'rb') as f:\n",
    "\tcdiac_priority_list = pkl.load(f)\n",
    "\n",
    "cdiac_priority_list.sort(key = lambda x: -x[2])"
   ]
  },
  {
   "cell_type": "code",
   "execution_count": 10,
   "metadata": {},
   "outputs": [
    {
     "name": "stdout",
     "output_type": "stream",
     "text": [
      "1500438\n",
      "('/eagle/Xtract/cdiac/cdiac.ornl.gov/cdiac.ornl.gov/pub8/oceans/Model_results/OCIM_DeVries/ocim_anthco2_storageT.mat', 'jsonxml', 3.287202836864106)\n",
      "('/eagle/Xtract/cdiac/cdiac.ornl.gov/pub8old/pub8/oceans/Model_results/OCIM_DeVries/ocim_anthco2_storageT.mat', 'jsonxml', 3.287202836864106)\n",
      "('/eagle/Xtract/cdiac/cdiac.ornl.gov/pub8old/oceans/Model_results/OCIM_DeVries/ocim_anthco2_storageT.mat', 'jsonxml', 3.287202836864106)\n",
      "('/eagle/Xtract/cdiac/cdiac.ornl.gov/cdiac.ornl.gov/pub8/oceans/Model_results/OCIM_DeVries/ocim_anthco2_transport.mat', 'jsonxml', 3.2773695477065248)\n",
      "('/eagle/Xtract/cdiac/cdiac.ornl.gov/pub8old/pub8/oceans/Model_results/OCIM_DeVries/ocim_anthco2_transport.mat', 'jsonxml', 3.2773695477065248)\n",
      "('/eagle/Xtract/cdiac/cdiac.ornl.gov/pub8old/oceans/Model_results/OCIM_DeVries/ocim_anthco2_transport.mat', 'jsonxml', 3.2773695477065248)\n",
      "('/eagle/Xtract/cdiac/cdiac.ornl.gov/cdiac.ornl.gov/pub8/oceans/NOAA_Workshop/CSIRO_Matear_Data/t15_1880_2100_heat.nc.gz', 'tabular', 3.2619104989593732)\n",
      "('/eagle/Xtract/cdiac/cdiac.ornl.gov/pub8old/oceans/NOAA_Workshop/CSIRO_Matear_Data/t15_1880_2100_heat.nc.gz', 'tabular', 3.2619104989593732)\n",
      "('/eagle/Xtract/cdiac/cdiac.ornl.gov/pub8old/SOCATv4.tsv', 'jsonxml', 3.2444543552342107)\n",
      "('/eagle/Xtract/cdiac/cdiac.ornl.gov/pub8old/pub8/SOCATv4.tsv', 'jsonxml', 3.2444543552342107)\n"
     ]
    }
   ],
   "source": [
    "print(len(cdiac_priority_list))\n",
    "for i in range(len(cdiac_priority_list)):\n",
    "\tif i == 10:\n",
    "\t\tbreak\n",
    "\tprint(cdiac_priority_list[i])"
   ]
  },
  {
   "cell_type": "code",
   "execution_count": 19,
   "metadata": {},
   "outputs": [
    {
     "name": "stdout",
     "output_type": "stream",
     "text": [
      "214314\n"
     ]
    }
   ],
   "source": [
    "numtoname = pd.read_csv(\"csv-try-2.csv\")\n",
    "numtoname.head()\n",
    "\n",
    "\n",
    "count = 0\n",
    "\n",
    "names = numtoname['path']\n",
    "indices = range(1, len(names) + 1)\n",
    "\n",
    "\n",
    "nametonum = dict(zip(names, indices))\n",
    "\n",
    "print(len(nametonum.items()))\n"
   ]
  },
  {
   "cell_type": "code",
   "execution_count": 22,
   "metadata": {},
   "outputs": [
    {
     "name": "stdout",
     "output_type": "stream",
     "text": [
      "images\n",
      "hdf\n",
      "python\n",
      "netcdf\n",
      "keyword\n",
      "jsonxml\n",
      "c-code\n"
     ]
    }
   ],
   "source": [
    "dict_of_dicts = dict()\n",
    "for subdir, dirs, files in os.walk(\"cdiac_data\"):\n",
    "\tfor file_name in files:\n",
    "\t\tname = file_name.split(\".\")[0].split(\"cdiac\")[1].split(\"scores\")[0]\n",
    "\t\tprint(name)\n",
    "\t\twith open(os.path.join(subdir, file_name), \"r\") as f:\n",
    "\t\t\tdict_of_dicts[name] = json.load(f)\n",
    "\n"
   ]
  },
  {
   "cell_type": "code",
   "execution_count": 23,
   "metadata": {},
   "outputs": [
    {
     "name": "stdout",
     "output_type": "stream",
     "text": [
      "214314\n",
      "428628\n",
      "642942\n",
      "857256\n",
      "1071570\n",
      "1285884\n",
      "1500198\n"
     ]
    }
   ],
   "source": [
    "count = 0\n",
    "for k, v in dict_of_dicts.items():\n",
    "\tfor file_name, dict_of_scores in v.items():\n",
    "\t\tcount += 1\n",
    "\tprint(count)"
   ]
  },
  {
   "cell_type": "code",
   "execution_count": 24,
   "metadata": {},
   "outputs": [],
   "source": [
    "scores = {\"readability\": [], \"completeness\": [], \"entropy\": [], \"yield\": []}"
   ]
  },
  {
   "cell_type": "code",
   "execution_count": 31,
   "metadata": {},
   "outputs": [
    {
     "name": "stdout",
     "output_type": "stream",
     "text": [
      "240\n"
     ]
    }
   ],
   "source": [
    "count = 0\n",
    "for name, extractor, score in cdiac_priority_list:\n",
    "\tif extractor != \"tabular\":\n",
    "\t\ttry:\n",
    "\t\t\tfile_index = str(nametonum[name])\n",
    "\t\t\tfile_score_dict = dict_of_dicts[extractor][file_index] \n",
    "\n",
    "\t\t\tfor key, value in file_score_dict.items():\n",
    "\t\t\t\tscores[key].append(value)\n",
    "\n",
    "\t\texcept KeyError:\n",
    "\t\t\tcount += 1\t\n",
    "\t\t\n",
    "print(count)"
   ]
  },
  {
   "cell_type": "code",
   "execution_count": null,
   "metadata": {},
   "outputs": [],
   "source": [
    "x = [0, 0.1, 0.2, 0.3, 0.4, 0.5, 0.6, 0.7, 0.8, 0.9, 1]\n",
    "for threshold in x:\n",
    "\tprint(\"Threshold: \", threshold)\n",
    "\tinput_threshold = threshold * len(cdiac_priority_list)\n",
    "\tinput_threshold = int(input_threshold)\n",
    "\tprint(\"Files Analyzed: \", input_threshold)\n",
    "\t"
   ]
  }
 ],
 "metadata": {
  "interpreter": {
   "hash": "31f2aee4e71d21fbe5cf8b01ff0e069b9275f58929596ceb00d14d90e3e16cd6"
  },
  "kernelspec": {
   "display_name": "Python 3.8.10 64-bit",
   "language": "python",
   "name": "python3"
  },
  "language_info": {
   "codemirror_mode": {
    "name": "ipython",
    "version": 3
   },
   "file_extension": ".py",
   "mimetype": "text/x-python",
   "name": "python",
   "nbconvert_exporter": "python",
   "pygments_lexer": "ipython3",
   "version": "3.8.10"
  },
  "orig_nbformat": 4
 },
 "nbformat": 4,
 "nbformat_minor": 2
}
