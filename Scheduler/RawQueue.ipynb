{
 "cells": [
  {
   "cell_type": "code",
   "execution_count": 10,
   "source": [
    "import pandas as pd\n",
    "import pickle as pkl"
   ],
   "outputs": [],
   "metadata": {}
  },
  {
   "cell_type": "code",
   "execution_count": 13,
   "source": [
    "file_crawl_map = pd.read_csv(\"../filename_crawl_t_map.csv\")\n",
    "print(file_crawl_map.head(n=510))"
   ],
   "outputs": [
    {
     "output_type": "stream",
     "name": "stdout",
     "text": [
      "                                           petrel_path  crawl_timestamp\n",
      "0        /cdiac/cdiac.ornl.gov/pub8old/pub8/PX105E.csv     1.626899e+09\n",
      "1    /cdiac/cdiac.ornl.gov/pub8old/pub8/PACIFICA120...     1.626899e+09\n",
      "2        /cdiac/cdiac.ornl.gov/pub8old/pub8/PX106E.csv     1.626899e+09\n",
      "3        /cdiac/cdiac.ornl.gov/pub8old/pub8/PX110E.csv     1.626899e+09\n",
      "4        /cdiac/cdiac.ornl.gov/pub8old/pub8/PX110W.csv     1.626899e+09\n",
      "..                                                 ...              ...\n",
      "505  /cdiac/cdiac.ornl.gov/pub8old/pub8/PACIFICAsou...     1.626899e+09\n",
      "506  /cdiac/cdiac.ornl.gov/pub8old/pub8/PACIFICAsou...     1.626899e+09\n",
      "507  /cdiac/cdiac.ornl.gov/pub8old/pub8/PACIFICAsou...     1.626899e+09\n",
      "508  /cdiac/cdiac.ornl.gov/pub8old/pub8/PACIFICAsou...     1.626899e+09\n",
      "509  /cdiac/cdiac.ornl.gov/pub8old/pub8/PACIFICAsou...     1.626899e+09\n",
      "\n",
      "[510 rows x 2 columns]\n"
     ]
    }
   ],
   "metadata": {}
  },
  {
   "cell_type": "code",
   "execution_count": 12,
   "source": [
    "with open('Experiment4_baseline/baseline_list.pkl', 'rb') as fp:\n",
    "\tbaseline_list = pkl.load(fp)\n",
    "for i in range(25):\n",
    "\tprint(baseline_list[i])"
   ],
   "outputs": [
    {
     "output_type": "stream",
     "name": "stdout",
     "text": [
      "('/home/cc/CDIACPub8/LDEO_Database_V2012.csv', 'keyword', 0)\n",
      "('/home/cc/CDIACPub8/Methods for AESOPS Surface pCO2.doc', 'netcdf', 0)\n",
      "('/home/cc/CDIACPub8/LDEO_Database_V2013.csv', 'json/xml', 0)\n",
      "('/home/cc/CDIACPub8/LDEO_Database_V2013.csv', 'keyword', 0)\n",
      "('/home/cc/CDIACPub8/PX100W.csv', 'image', 0)\n",
      "('/home/cc/CDIACPub8/SOCATv2_NorthAtlantic.tsv', 'keyword', 0)\n",
      "('/home/cc/CDIACPub8/PX109E.csv', 'image', 0)\n",
      "('/home/cc/CDIACPub8/PACIFICAsource/18PZ19861014_hy1.csv', 'json/xml', 0)\n",
      "('/home/cc/CDIACPub8/PACIFICAsource/18DD20040218_hy1.csv', 'netcdf', 0)\n",
      "('/home/cc/CDIACPub8/PACIFICAsource/35A319940923_hy1.csv', 'json/xml', 0)\n",
      "('/home/cc/CDIACPub8/PACIFICAsource/18PZ19891003_hy1.csv', 'netcdf', 0)\n",
      "('/home/cc/CDIACPub8/PACIFICAsource/49EW19981003_hy1.csv', 'json/xml', 0)\n",
      "('/home/cc/CDIACPub8/PACIFICAsource/49EW19981003_hy1.csv', 'image', 0)\n",
      "('/home/cc/CDIACPub8/PACIFICAsource/49FA20030422_hy1.csv', 'image', 0)\n",
      "('/home/cc/CDIACPub8/PACIFICAsource/49FA20010119_hy1.csv', 'json/xml', 0)\n",
      "('/home/cc/CDIACPub8/PACIFICAsource/49FA20031028_hy1.csv', 'json/xml', 0)\n",
      "('/home/cc/CDIACPub8/PACIFICAsource/49H520010113_hy1.csv', 'netcdf', 0)\n",
      "('/home/cc/CDIACPub8/PACIFICAsource/49HG19920807_hy1.csv', 'json/xml', 0)\n",
      "('/home/cc/CDIACPub8/PACIFICAsource/49HG19930413_hy1.csv', 'netcdf', 0)\n",
      "('/home/cc/CDIACPub8/PACIFICAsource/49H520070508_hy1.csv', 'json/xml', 0)\n",
      "('/home/cc/CDIACPub8/PACIFICAsource/49HG19950414_hy1.csv', 'json/xml', 0)\n",
      "('/home/cc/CDIACPub8/PACIFICAsource/49HG20000912_hy1.csv', 'json/xml', 0)\n",
      "('/home/cc/CDIACPub8/PACIFICAsource/49HH20011127_hy1.csv', 'json/xml', 0)\n",
      "('/home/cc/CDIACPub8/PACIFICAsource/49HO20000601_hy1.csv', 'netcdf', 0)\n",
      "('/home/cc/CDIACPub8/PACIFICAsource/49NB20030705_hy1.csv', 'image', 0)\n"
     ]
    }
   ],
   "metadata": {}
  },
  {
   "cell_type": "code",
   "execution_count": null,
   "source": [],
   "outputs": [],
   "metadata": {}
  }
 ],
 "metadata": {
  "orig_nbformat": 4,
  "language_info": {
   "name": "python",
   "version": "3.8.10",
   "mimetype": "text/x-python",
   "codemirror_mode": {
    "name": "ipython",
    "version": 3
   },
   "pygments_lexer": "ipython3",
   "nbconvert_exporter": "python",
   "file_extension": ".py"
  },
  "kernelspec": {
   "name": "python3",
   "display_name": "Python 3.8.10 64-bit"
  },
  "interpreter": {
   "hash": "e7370f93d1d0cde622a1f8e1c04877d8463912d04d973331ad4851f04de6915a"
  }
 },
 "nbformat": 4,
 "nbformat_minor": 2
}