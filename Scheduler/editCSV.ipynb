{
 "cells": [
  {
   "cell_type": "code",
   "execution_count": 1,
   "source": [
    "import csv\n",
    "import pandas as pd\n"
   ],
   "outputs": [],
   "metadata": {}
  },
  {
   "cell_type": "code",
   "execution_count": 2,
   "source": [
    "filename_crawl_map = pd.read_csv(\"../filename_crawl_t_map.csv\")"
   ],
   "outputs": [],
   "metadata": {}
  },
  {
   "cell_type": "code",
   "execution_count": 3,
   "source": [
    "def update(x):\n",
    "\tx = str(x)\n",
    "\tx = x.replace('/cdiac/cdiac.ornl.gov/pub8old/pub8/', '/home/cc/CDIACPub8/')\n",
    "\treturn x"
   ],
   "outputs": [],
   "metadata": {}
  },
  {
   "cell_type": "code",
   "execution_count": 4,
   "source": [
    "filename_crawl_map['petrel_path'] = filename_crawl_map['petrel_path'].apply(update)"
   ],
   "outputs": [],
   "metadata": {}
  },
  {
   "cell_type": "code",
   "execution_count": 5,
   "source": [
    "print(filename_crawl_map.head())"
   ],
   "outputs": [
    {
     "output_type": "stream",
     "name": "stdout",
     "text": [
      "                           petrel_path  crawl_timestamp\n",
      "0        /home/cc/CDIACPub8/PX105E.csv     1.626899e+09\n",
      "1  /home/cc/CDIACPub8/PACIFICA1205.csv     1.626899e+09\n",
      "2        /home/cc/CDIACPub8/PX106E.csv     1.626899e+09\n",
      "3        /home/cc/CDIACPub8/PX110E.csv     1.626899e+09\n",
      "4        /home/cc/CDIACPub8/PX110W.csv     1.626899e+09\n"
     ]
    }
   ],
   "metadata": {}
  },
  {
   "cell_type": "code",
   "execution_count": 6,
   "source": [
    "filename_crawl_map['crawl_timestamp'] = filename_crawl_map['crawl_timestamp'] - filename_crawl_map['crawl_timestamp'].min()"
   ],
   "outputs": [],
   "metadata": {}
  },
  {
   "cell_type": "code",
   "execution_count": 7,
   "source": [
    "print(filename_crawl_map.head())"
   ],
   "outputs": [
    {
     "output_type": "stream",
     "name": "stdout",
     "text": [
      "                           petrel_path  crawl_timestamp\n",
      "0        /home/cc/CDIACPub8/PX105E.csv         0.002268\n",
      "1  /home/cc/CDIACPub8/PACIFICA1205.csv         0.000848\n",
      "2        /home/cc/CDIACPub8/PX106E.csv         0.002812\n",
      "3        /home/cc/CDIACPub8/PX110E.csv         0.004196\n",
      "4        /home/cc/CDIACPub8/PX110W.csv         0.004709\n"
     ]
    }
   ],
   "metadata": {}
  },
  {
   "cell_type": "code",
   "execution_count": 8,
   "source": [
    "filename_crawl_map = filename_crawl_map.sort_values(by=['crawl_timestamp'])\n",
    "filename_crawl_map = filename_crawl_map.reset_index(drop=True)"
   ],
   "outputs": [],
   "metadata": {}
  },
  {
   "cell_type": "code",
   "execution_count": 9,
   "source": [
    "print(filename_crawl_map.head())"
   ],
   "outputs": [
    {
     "output_type": "stream",
     "name": "stdout",
     "text": [
      "                                         petrel_path  crawl_timestamp\n",
      "0         /home/cc/CDIACPub8/LDEO_Database_V2012.csv         0.000000\n",
      "1         /home/cc/CDIACPub8/LDEO_Database_V2013.csv         0.000192\n",
      "2         /home/cc/CDIACPub8/LDEO_Database_V2014.csv         0.000333\n",
      "3         /home/cc/CDIACPub8/LDEO_Database_V2015.csv         0.000540\n",
      "4  /home/cc/CDIACPub8/Methods for AESOPS Surface ...         0.000684\n"
     ]
    }
   ],
   "metadata": {}
  },
  {
   "cell_type": "code",
   "execution_count": 10,
   "source": [
    "filename_crawl_map.to_csv(\"filename_crawl_t_map_processed.csv\")"
   ],
   "outputs": [],
   "metadata": {}
  },
  {
   "cell_type": "code",
   "execution_count": 11,
   "source": [
    "timestamps = filename_crawl_map['crawl_timestamp']"
   ],
   "outputs": [],
   "metadata": {}
  },
  {
   "cell_type": "code",
   "execution_count": 13,
   "source": [
    "print(type(timestamps.values))"
   ],
   "outputs": [
    {
     "output_type": "stream",
     "name": "stdout",
     "text": [
      "<class 'numpy.ndarray'>\n"
     ]
    }
   ],
   "metadata": {}
  },
  {
   "cell_type": "code",
   "execution_count": null,
   "source": [],
   "outputs": [],
   "metadata": {}
  }
 ],
 "metadata": {
  "orig_nbformat": 4,
  "language_info": {
   "name": "python",
   "version": "3.8.5",
   "mimetype": "text/x-python",
   "codemirror_mode": {
    "name": "ipython",
    "version": 3
   },
   "pygments_lexer": "ipython3",
   "nbconvert_exporter": "python",
   "file_extension": ".py"
  },
  "kernelspec": {
   "name": "python3",
   "display_name": "Python 3.8.10 64-bit ('usr')"
  },
  "interpreter": {
   "hash": "767d51c1340bd893661ea55ea3124f6de3c7a262a8b4abca0554b478b1e2ff90"
  }
 },
 "nbformat": 4,
 "nbformat_minor": 2
}