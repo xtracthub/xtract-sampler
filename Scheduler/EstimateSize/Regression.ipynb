{
 "cells": [
  {
   "cell_type": "code",
   "execution_count": 3,
   "source": [
    "import json, os, re\n",
    "import numpy as np\n",
    "from sklearn.model_selection import train_test_split\n",
    "from sklearn.model_selection import cross_val_score\n",
    "from sklearn.model_selection import KFold\n",
    "from sklearn.pipeline import Pipeline\n",
    "from sklearn.preprocessing import StandardScaler\n",
    "import matplotlib.pyplot as plt\n",
    "from sklearn.linear_model import LinearRegression\n",
    "from sklearn.linear_model import Lasso\n",
    "from sklearn.linear_model import ElasticNet\n",
    "from sklearn.tree import DecisionTreeRegressor\n",
    "from sklearn.neighbors import KNeighborsRegressor\n",
    "from sklearn.ensemble import GradientBoostingRegressor\n",
    "from sklearn.metrics import mean_squared_error\n",
    "import pickle as pkl\n",
    "from math import log"
   ],
   "outputs": [],
   "metadata": {}
  },
  {
   "cell_type": "code",
   "execution_count": 5,
   "source": [
    "with open(\"../EstimateTime/file_to_index.json\", \"r\") as fp:\n",
    "    file_index_dict = json.load(fp)"
   ],
   "outputs": [],
   "metadata": {}
  },
  {
   "cell_type": "code",
   "execution_count": 87,
   "source": [
    "def get_size(extract_path, file_format_string):\n",
    "\tdatapoints = []\n",
    "\tempty_files = 0\n",
    "\tfor subdir, dirs, files, in os.walk(extract_path):\n",
    "\t\tfor file in files:\n",
    "\t\t\tfilepath = os.path.join(subdir, file)\n",
    "\t\t\tfile_dict = json.load(open(filepath, \"r\"))\n",
    "\t\t\tidx = re.search(file_format_string, file).group(1)\n",
    "\t\t\ttry:\n",
    "\t\t\t\tmetadata_file_size = os.path.getsize(filepath)\n",
    "\t\t\t\tfile_size = os.path.getsize(file_index_dict[idx])\n",
    "\t\t\t\tif file_size > 8 and metadata_file_size > 256:\n",
    "\t\t\t\t\tdatapoints.append((file_size, metadata_file_size))\n",
    "\t\t\texcept KeyError:\n",
    "\t\t\t\tempty_files += 1\n",
    "\treturn datapoints"
   ],
   "outputs": [],
   "metadata": {}
  },
  {
   "cell_type": "code",
   "execution_count": 88,
   "source": [
    "datapoints = get_size(\"../../../CDIACMetadataExtract/CDIACTabularExtracted\", \"TabXtract(.*).json\")\n",
    "print(len(datapoints)) "
   ],
   "outputs": [
    {
     "output_type": "stream",
     "name": "stdout",
     "text": [
      "5108\n"
     ]
    }
   ],
   "metadata": {}
  },
  {
   "cell_type": "code",
   "execution_count": 89,
   "source": [
    "X = np.array([log(elem1) for elem1, elem2 in datapoints])\n",
    "Y = np.array([log(elem2) for elem1, elem2 in datapoints])\n",
    "X_train, X_test, Y_train, Y_test = train_test_split(X, Y, test_size = 0.20, random_state=42)\n",
    "X_train = X_train.reshape(-1,1)\n",
    "X_test = X_test.reshape(-1, 1)"
   ],
   "outputs": [],
   "metadata": {}
  },
  {
   "cell_type": "code",
   "execution_count": 90,
   "source": [
    "pipelines = []\n",
    "pipelines.append(('ScaledLR', Pipeline([('Scaler', StandardScaler()),('LR',LinearRegression())])))\n",
    "pipelines.append(('ScaledLASSO', Pipeline([('Scaler', StandardScaler()),('LASSO', Lasso())])))\n",
    "pipelines.append(('ScaledEN', Pipeline([('Scaler', StandardScaler()),('EN', ElasticNet())])))\n",
    "pipelines.append(('ScaledKNN', Pipeline([('Scaler', StandardScaler()),('KNN', KNeighborsRegressor())])))\n",
    "pipelines.append(('ScaledCART', Pipeline([('Scaler', StandardScaler()),('CART', DecisionTreeRegressor())])))\n",
    "pipelines.append(('ScaledGBM', Pipeline([('Scaler', StandardScaler()),('GBM', GradientBoostingRegressor())])))\n",
    "\n",
    "results = []\n",
    "names = []\n",
    "for name, model in pipelines:\n",
    "    kfold = KFold(n_splits=10, random_state=42, shuffle=True)\n",
    "    cv_results = cross_val_score(model, X_train, Y_train, cv=kfold, scoring='neg_mean_squared_error')\n",
    "    results.append(cv_results)\n",
    "    names.append(name)\n",
    "    msg = \"%s: %f (%f)\" % (name, cv_results.mean(), cv_results.std())\n",
    "    print(msg)"
   ],
   "outputs": [
    {
     "output_type": "stream",
     "name": "stdout",
     "text": [
      "ScaledLR: -4.162029 (0.329943)\n",
      "ScaledLASSO: -4.169310 (0.337520)\n",
      "ScaledEN: -4.169310 (0.337520)\n",
      "ScaledKNN: -4.217792 (0.327874)\n",
      "ScaledCART: -4.708804 (0.299328)\n",
      "ScaledGBM: -3.911006 (0.335189)\n"
     ]
    }
   ],
   "metadata": {}
  },
  {
   "cell_type": "code",
   "execution_count": 93,
   "source": [
    "model = GradientBoostingRegressor(random_state=42, n_estimators=400)\n",
    "RegressionPipeline = Pipeline([('Scaler', StandardScaler()), ('Regression', model)])\n",
    "RegressionPipeline.fit(X_train, Y_train)\n",
    "predictions = RegressionPipeline.predict(X_test)\n",
    "print (mean_squared_error(Y_test, predictions))"
   ],
   "outputs": [
    {
     "output_type": "stream",
     "name": "stdout",
     "text": [
      "3.9194502205728736\n"
     ]
    }
   ],
   "metadata": {}
  },
  {
   "cell_type": "code",
   "execution_count": 94,
   "source": [
    "plt.scatter(X_test, Y_test)\n",
    "plt.plot(X_test, predictions, color='red')\n",
    "plt.show()"
   ],
   "outputs": [
    {
     "output_type": "display_data",
     "data": {
      "text/plain": [
       "<Figure size 432x288 with 1 Axes>"
      ],
      "image/png": "[encoded data removed]"
     },
     "metadata": {
      "needs_background": "light"
     }
    }
   ],
   "metadata": {}
  },
  {
   "cell_type": "code",
   "execution_count": 95,
   "source": [
    "with open('models/TABULAR-GBR(Log X and Y).pkl', \"wb+\") as fp:\n",
    "    pkl.dump(RegressionPipeline, fp)"
   ],
   "outputs": [],
   "metadata": {}
  },
  {
   "cell_type": "code",
   "execution_count": 27,
   "source": [
    "print(RegressionPipeline['Regression'].get_params())"
   ],
   "outputs": [
    {
     "output_type": "stream",
     "name": "stdout",
     "text": [
      "{'copy_X': True, 'fit_intercept': True, 'n_jobs': None, 'normalize': False, 'positive': False}\n"
     ]
    }
   ],
   "metadata": {}
  },
  {
   "cell_type": "code",
   "execution_count": 30,
   "source": [
    "mean = np.mean(Y)\n",
    "print(mean)"
   ],
   "outputs": [
    {
     "output_type": "stream",
     "name": "stdout",
     "text": [
      "5506.276923076923\n"
     ]
    }
   ],
   "metadata": {}
  },
  {
   "cell_type": "code",
   "execution_count": null,
   "source": [],
   "outputs": [],
   "metadata": {}
  }
 ],
 "metadata": {
  "orig_nbformat": 4,
  "language_info": {
   "name": "python",
   "version": "3.8.5",
   "mimetype": "text/x-python",
   "codemirror_mode": {
    "name": "ipython",
    "version": 3
   },
   "pygments_lexer": "ipython3",
   "nbconvert_exporter": "python",
   "file_extension": ".py"
  },
  "kernelspec": {
   "name": "python3",
   "display_name": "Python 3.8.5 64-bit ('usr')"
  },
  "interpreter": {
   "hash": "767d51c1340bd893661ea55ea3124f6de3c7a262a8b4abca0554b478b1e2ff90"
  }
 },
 "nbformat": 4,
 "nbformat_minor": 2
}