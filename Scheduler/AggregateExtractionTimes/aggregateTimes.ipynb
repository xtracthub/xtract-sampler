{
 "cells": [
  {
   "cell_type": "code",
   "execution_count": 1,
   "source": [
    "import json, os, re\n",
    "import numpy as np\n",
    "import pandas as pd"
   ],
   "outputs": [],
   "metadata": {}
  },
  {
   "cell_type": "code",
   "execution_count": 2,
   "source": [
    "directory_path = \"../../../CDIACMetadataExtract/\"\n",
    "extraction_times_dict = dict()\n",
    "with open(\"../EstimateTime/file_to_index.json\", \"r\") as fp:\n",
    "    file_index_dict = json.load(fp)"
   ],
   "outputs": [],
   "metadata": {}
  },
  {
   "cell_type": "code",
   "execution_count": null,
   "source": [
    "for subdir, dirs, files in os.walk(directory_path):\n",
    "\tif len(dirs) > 0:\n",
    "\t\tprint(dirs)\n",
    "\t\tkeys = dirs\n",
    "\tfor file in files:\n",
    "\t\tfilepath = os.path.join(subdir, file)\n",
    "\t\tidx = re.search(\"Xtract(.*).json\", file).group(1)\n",
    "\t\tfilename = file_index_dict[idx]\n",
    "\t\twith open(filepath, \"r\") as fp:\n",
    "\t\t\tfile_dict = json.load(fp)\n",
    "\t\tif filename not in extraction_times_dict:\n",
    "\t\t\ttry:\n",
    "\t\t\t\textraction_times_dict[filename] = [file_dict[\"extract time\"]]\n",
    "\t\t\texcept KeyError:\n",
    "\t\t\t\textraction_times_dict[filename] = [0]\n",
    "\t\t\t\tpass\n",
    "\t\telse:\n",
    "\t\t\ttry:\n",
    "\t\t\t\textraction_times_dict[filename].append(file_dict[\"extract time\"])\n",
    "\t\t\texcept KeyError:\n",
    "\t\t\t\textraction_times_dict[filename].append(0)\n",
    "\t\t\t\tpass"
   ],
   "outputs": [],
   "metadata": {}
  },
  {
   "cell_type": "code",
   "execution_count": null,
   "source": [
    "dataframe = pd.DataFrame.from_dict(extraction_times_dict, orient='index', columns=[\"Keyword\", \"Image\", \"JSONXML\", \"NetCDF\", \"Tabular\"])\n",
    "unknown = np.full(len(dataframe.index), 5)\n",
    "\n",
    "dataframe.insert(2, \"Unknown\", unknown)\n",
    "dataframe = dataframe[[\"Keyword\", \"Tabular\", \"Unknown\", \"JSONXML\", \"NetCDF\", \"Image\"]]\n",
    "print(dataframe.head())"
   ],
   "outputs": [],
   "metadata": {}
  },
  {
   "cell_type": "code",
   "execution_count": null,
   "source": [
    "dataframe.to_csv(\"ExtractionTimes.csv\")"
   ],
   "outputs": [],
   "metadata": {}
  },
  {
   "cell_type": "code",
   "execution_count": 3,
   "source": [
    "extraction_sizes = dict()"
   ],
   "outputs": [],
   "metadata": {}
  },
  {
   "cell_type": "code",
   "execution_count": 6,
   "source": [
    "if \"/home/cc/CDIACPub8/oceans/VOS_Ronald_Brown/RB2013/33RO20130430_PI_OME.xml\" in extraction_sizes:\n",
    "\tprint(extraction_sizes[\"/home/cc/CDIACPub8/oceans/VOS_Ronald_Brown/RB2013/33RO20130430_PI_OME.xml\"])"
   ],
   "outputs": [
    {
     "output_type": "stream",
     "name": "stdout",
     "text": [
      "None\n"
     ]
    }
   ],
   "metadata": {}
  },
  {
   "cell_type": "code",
   "execution_count": 7,
   "source": [
    "count = 0\n",
    "for subdir, dirs, files in os.walk(directory_path):\n",
    "\tif len(dirs) > 0:\n",
    "\t\tprint(dirs)\n",
    "\t\tkeys = dirs\n",
    "\tfor file in files:\n",
    "\t\tfilepath = os.path.join(subdir, file)\n",
    "\t\tidx = re.search(\"Xtract(.*).json\", file).group(1)\n",
    "\t\tfilename = file_index_dict[idx]\n",
    "\n",
    "\t\tif filename not in extraction_sizes:\n",
    "\t\t\textraction_sizes[filename] = []\n",
    "\t\t\t#count += 1\n",
    "\t\t\n",
    "\t\t#if extraction_sizes[filename] != None:\n",
    "\t\t#\tcount += 1\n",
    "\n",
    "\t\t#if filename in extraction_sizes:\n",
    "\t\t\t#print(\"It's in\")\n",
    "\t\t#\tcount += 1\n",
    "for subdir, dirs, files in os.walk(directory_path):\n",
    "\tfor file in files:\n",
    "\t\ttry:\n",
    "\t\t\textraction_sizes[filename] = extraction_sizes[filename].append(os.path.getsize(filepath))\n",
    "\t\texcept AttributeError:\n",
    "\t\t\tprint(filename)\n",
    "\t\t\tprint(extraction_sizes[filename])\n",
    "\t\t\tprint(len(extraction_sizes))\n",
    "\t\t\tbreak\n",
    "\n",
    "\n",
    "\n",
    "print(count)\n",
    "#print(extraction_sizes)"
   ],
   "outputs": [
    {
     "output_type": "stream",
     "name": "stdout",
     "text": [
      "['CDIACKeywordExtract', 'CDIACImgPredictions', 'CDIACJSONXMLExtracted', 'CDIACNETCDFExtracted', 'CDIACTabularExtracted']\n",
      "/home/cc/CDIACPub8/oceans/Met32_5/06MT19950714_pCO2_metadata.rtf\n",
      "None\n",
      "20427\n",
      "/home/cc/CDIACPub8/oceans/Met32_5/06MT19950714_pCO2_metadata.rtf\n",
      "None\n",
      "20427\n",
      "/home/cc/CDIACPub8/oceans/Met32_5/06MT19950714_pCO2_metadata.rtf\n",
      "None\n",
      "20427\n",
      "/home/cc/CDIACPub8/oceans/Met32_5/06MT19950714_pCO2_metadata.rtf\n",
      "None\n",
      "20427\n",
      "/home/cc/CDIACPub8/oceans/Met32_5/06MT19950714_pCO2_metadata.rtf\n",
      "None\n",
      "20427\n",
      "0\n"
     ]
    }
   ],
   "metadata": {}
  },
  {
   "cell_type": "code",
   "execution_count": null,
   "source": [
    "size_df = pd.DataFrame.from_dict(extraction_sizes, orient='index', columns=[\"Keyword\", \"Image\", \"JSONXML\", \"NetCDF\", \"Tabular\"])\n",
    "unknown = np.full(len(size_df.index), 0)\n",
    "\n",
    "size_df.insert(2, \"Unknown\", unknown)\n",
    "size_df = size_df[[\"Keyword\", \"Tabular\", \"Unknown\", \"JSONXML\", \"NetCDF\", \"Image\"]]\n",
    "print(size_df.head())"
   ],
   "outputs": [],
   "metadata": {}
  },
  {
   "cell_type": "code",
   "execution_count": null,
   "source": [],
   "outputs": [],
   "metadata": {}
  }
 ],
 "metadata": {
  "orig_nbformat": 4,
  "language_info": {
   "name": "python",
   "version": "3.8.10",
   "mimetype": "text/x-python",
   "codemirror_mode": {
    "name": "ipython",
    "version": 3
   },
   "pygments_lexer": "ipython3",
   "nbconvert_exporter": "python",
   "file_extension": ".py"
  },
  "kernelspec": {
   "name": "python3",
   "display_name": "Python 3.8.10 64-bit"
  },
  "interpreter": {
   "hash": "e7370f93d1d0cde622a1f8e1c04877d8463912d04d973331ad4851f04de6915a"
  }
 },
 "nbformat": 4,
 "nbformat_minor": 2
}