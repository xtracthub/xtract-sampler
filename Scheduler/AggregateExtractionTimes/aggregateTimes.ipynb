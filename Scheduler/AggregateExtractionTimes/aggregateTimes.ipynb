{
 "cells": [
  {
   "cell_type": "code",
   "execution_count": 5,
   "source": [
    "import json, os, re\n",
    "import numpy as np\n",
    "import pandas as pd"
   ],
   "outputs": [],
   "metadata": {}
  },
  {
   "cell_type": "code",
   "execution_count": 6,
   "source": [
    "directory_path = \"../../../CDIACMetadataExtract/\"\n",
    "extraction_times_dict = dict()\n",
    "with open(\"../EstimateTime/file_to_index.json\", \"r\") as fp:\n",
    "    file_index_dict = json.load(fp)"
   ],
   "outputs": [],
   "metadata": {}
  },
  {
   "cell_type": "code",
   "execution_count": 7,
   "source": [
    "for subdir, dirs, files in os.walk(directory_path):\n",
    "\tif len(dirs) > 0:\n",
    "\t\tprint(dirs)\n",
    "\t\tkeys = dirs\n",
    "\tfor file in files:\n",
    "\t\tfilepath = os.path.join(subdir, file)\n",
    "\t\tidx = re.search(\"Xtract(.*).json\", file).group(1)\n",
    "\t\tfilename = file_index_dict[idx]\n",
    "\t\twith open(filepath, \"r\") as fp:\n",
    "\t\t\tfile_dict = json.load(fp)\n",
    "\t\t#print(file_dict)\n",
    "\t\tif filename not in extraction_times_dict:\n",
    "\t\t\ttry:\n",
    "\t\t\t\textraction_times_dict[filename] = [file_dict[\"extract time\"]]\n",
    "\t\t\texcept KeyError:\n",
    "\t\t\t\textraction_times_dict[filename] = [0]\n",
    "\t\t\t\tpass\n",
    "\t\telse:\n",
    "\t\t\ttry:\n",
    "\t\t\t\textraction_times_dict[filename].append(file_dict[\"extract time\"])\n",
    "\t\t\texcept KeyError:\n",
    "\t\t\t\textraction_times_dict[filename].append(0)\n",
    "\t\t\t\tpass"
   ],
   "outputs": [
    {
     "output_type": "stream",
     "name": "stdout",
     "text": [
      "['CDIACKeywordExtract', 'CDIACImgPredictions', 'CDIACJSONXMLExtracted', 'CDIACNETCDFExtracted', 'CDIACTabularExtracted']\n"
     ]
    }
   ],
   "metadata": {}
  },
  {
   "cell_type": "code",
   "execution_count": 8,
   "source": [
    "with open(\"estimate_times.json\", \"w+\") as fp:\n",
    "\tjson.dump(extraction_times_dict, fp, indent=4)"
   ],
   "outputs": [],
   "metadata": {}
  }
 ],
 "metadata": {
  "orig_nbformat": 4,
  "language_info": {
   "name": "python",
   "version": "3.8.10",
   "mimetype": "text/x-python",
   "codemirror_mode": {
    "name": "ipython",
    "version": 3
   },
   "pygments_lexer": "ipython3",
   "nbconvert_exporter": "python",
   "file_extension": ".py"
  },
  "kernelspec": {
   "name": "python3",
   "display_name": "Python 3.8.10 64-bit ('usr')"
  },
  "interpreter": {
   "hash": "767d51c1340bd893661ea55ea3124f6de3c7a262a8b4abca0554b478b1e2ff90"
  }
 },
 "nbformat": 4,
 "nbformat_minor": 2
}