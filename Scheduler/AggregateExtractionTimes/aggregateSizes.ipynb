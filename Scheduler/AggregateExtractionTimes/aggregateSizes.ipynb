{
 "cells": [
  {
   "cell_type": "code",
   "execution_count": 16,
   "source": [
    "import json, os, re\n",
    "import numpy as np\n",
    "import pandas as pd"
   ],
   "outputs": [],
   "metadata": {}
  },
  {
   "cell_type": "code",
   "execution_count": 11,
   "source": [
    "directory_path = \"../../../CDIACMetadataExtract/\"\n",
    "with open(\"../EstimateTime/file_to_index.json\", \"r\") as fp:\n",
    "    file_index_dict = json.load(fp)"
   ],
   "outputs": [],
   "metadata": {}
  },
  {
   "cell_type": "code",
   "execution_count": 12,
   "source": [
    "extraction_sizes = dict()"
   ],
   "outputs": [],
   "metadata": {}
  },
  {
   "cell_type": "code",
   "execution_count": 13,
   "source": [
    "count = 0\n",
    "wrong = 0\n",
    "for subdir, dirs, files in os.walk(directory_path):\n",
    "\tif len(dirs) > 0:\n",
    "\t\tprint(dirs)\n",
    "\tfor file in files:\n",
    "\t\tmetadata_filepath = os.path.join(subdir, file)\n",
    "\t\tidx = re.search(\"Xtract(.*).json\", file).group(1)\n",
    "\t\tfilename = file_index_dict[idx]\t\n",
    "\n",
    "\t\tsize = os.path.getsize(metadata_filepath)\n",
    "\t\tif filename not in extraction_sizes:\n",
    "\t\t\textraction_sizes[filename] = [size]\n",
    "\t\telse:\n",
    "\t\t\textraction_sizes[filename].append(size)\n",
    "\n",
    "print(count)\n",
    "print(wrong)\n",
    "#print(extraction_sizes)"
   ],
   "outputs": [
    {
     "output_type": "stream",
     "name": "stdout",
     "text": [
      "['CDIACKeywordExtract', 'CDIACImgPredictions', 'CDIACJSONXMLExtracted', 'CDIACNETCDFExtracted', 'CDIACTabularExtracted']\n",
      "0\n",
      "0\n"
     ]
    }
   ],
   "metadata": {}
  },
  {
   "cell_type": "code",
   "execution_count": 17,
   "source": [
    "size_df = pd.DataFrame.from_dict(extraction_sizes, orient='index', columns=[\"Keyword\", \"Image\", \"JSONXML\", \"NetCDF\", \"Tabular\"])\n",
    "unknown = np.full(len(size_df.index), 0)\n",
    "\n",
    "size_df.insert(2, \"Unknown\", unknown)\n",
    "size_df = size_df[[\"Keyword\", \"Tabular\", \"Unknown\", \"JSONXML\", \"NetCDF\", \"Image\"]]\n",
    "print(size_df.head())"
   ],
   "outputs": [
    {
     "output_type": "stream",
     "name": "stdout",
     "text": [
      "                                                    Keyword  Tabular  Unknown  \\\n",
      "/home/cc/CDIACPub8/oceans/PACIFICA/All_PACIFICA...       53       67        0   \n",
      "/home/cc/CDIACPub8/oceans/Bakker_ANT18_1_2.data...       53     2666        0   \n",
      "/home/cc/CDIACPub8/oceans/Oscar_Dyson/2014/33OA...       94      420        0   \n",
      "/home/cc/CDIACPub8/oceans/Benjamin/For_Stew/Cdi...      202        2        0   \n",
      "/home/cc/CDIACPub8/oceans/VOS_Gould_Lines/VOS_L...       52     2259        0   \n",
      "\n",
      "                                                    JSONXML  NetCDF  Image  \n",
      "/home/cc/CDIACPub8/oceans/PACIFICA/All_PACIFICA...        2       2      2  \n",
      "/home/cc/CDIACPub8/oceans/Bakker_ANT18_1_2.data...        2       2      2  \n",
      "/home/cc/CDIACPub8/oceans/Oscar_Dyson/2014/33OA...        2       2      2  \n",
      "/home/cc/CDIACPub8/oceans/Benjamin/For_Stew/Cdi...        2       2      2  \n",
      "/home/cc/CDIACPub8/oceans/VOS_Gould_Lines/VOS_L...        2       2      2  \n"
     ]
    }
   ],
   "metadata": {}
  },
  {
   "cell_type": "code",
   "execution_count": 19,
   "source": [
    "size_df.to_csv(\"ExtractionSizes.csv\")"
   ],
   "outputs": [],
   "metadata": {}
  },
  {
   "cell_type": "code",
   "execution_count": null,
   "source": [],
   "outputs": [],
   "metadata": {}
  }
 ],
 "metadata": {
  "orig_nbformat": 4,
  "language_info": {
   "name": "python",
   "version": "3.8.10",
   "mimetype": "text/x-python",
   "codemirror_mode": {
    "name": "ipython",
    "version": 3
   },
   "pygments_lexer": "ipython3",
   "nbconvert_exporter": "python",
   "file_extension": ".py"
  },
  "kernelspec": {
   "name": "python3",
   "display_name": "Python 3.8.10 64-bit"
  },
  "interpreter": {
   "hash": "e7370f93d1d0cde622a1f8e1c04877d8463912d04d973331ad4851f04de6915a"
  }
 },
 "nbformat": 4,
 "nbformat_minor": 2
}