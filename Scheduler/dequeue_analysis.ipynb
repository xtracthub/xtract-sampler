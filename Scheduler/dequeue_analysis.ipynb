{
 "cells": [
  {
   "cell_type": "code",
   "execution_count": 8,
   "source": [
    "import json, os, re\n",
    "from metadata_metrics import readability_score, completeness_score_img, completeness_score_jsonxml, completeness_score_keyword, completeness_score_netcdf, completeness_score_tabular\n",
    "import numpy as np\n",
    "import matplotlib.pyplot as plt"
   ],
   "outputs": [],
   "metadata": {}
  },
  {
   "cell_type": "code",
   "execution_count": 16,
   "source": [
    "with open(\"dequeue_list.json\", \"r\") as fp:\n",
    "\tdequeue_list = json.load(fp)\n",
    "with open(\"EstimateTime/file_to_index.json\", \"r\") as fp:\n",
    "\tfile_to_index_dict = json.load(fp)\n",
    "file_to_index_dict = dict(zip(file_to_index_dict.values(), file_to_index_dict.keys()))"
   ],
   "outputs": [],
   "metadata": {}
  },
  {
   "cell_type": "code",
   "execution_count": 11,
   "source": [
    "\n",
    "def get_metadata_metrics(dequeue_list, file_to_index_dict):\n",
    "\treadability_scores = dict()\n",
    "\tcompleteness_scores = dict()\n",
    "\tcount = 0\n",
    "\tfor key, value in dequeue_list.items():\n",
    "\t\tparsed_key = key.split(\"/\")\n",
    "\t\tfilename = parsed_key[len(parsed_key) - 1]\n",
    "\t\tif value == 1: # keyword\n",
    "\t\t\tfilepath = '/home/cc/CDIACMetadataExtract/CDIACKeywordExtract/' + filename + 'KWXtract' + file_to_index_dict[key] + '.json'\n",
    "\t\t\tcompleteness_scores[key] = completeness_score_keyword(filepath)\n",
    "\t\telif value == 2: # tabular\n",
    "\t\t\tfilepath = '/home/cc/CDIACMetadataExtract/CDIACTabularExtracted/' + filename +  'TabXtract' + file_to_index_dict[key] + '.json'\n",
    "\t\t\tcompleteness_scores[key] = completeness_score_tabular(filepath)\n",
    "\t\t#elif value == 3: # unknown\n",
    "\t\t#\tfilepath = '/home/cc/CDIACMetadataExtract/CDIACKeywordExtract/' + key + file_to_index_dict[key] + 'KWXtract.json'\n",
    "\t\telif value == 4: #json/xml\n",
    "\t\t\tfilepath = '/home/cc/CDIACMetadataExtract/CDIACJSONXMLExtracted/' + filename + 'JSONXMLXtract' + file_to_index_dict[key] + '.json'\n",
    "\t\t\tcompleteness_scores[key] = completeness_score_jsonxml(filepath)\n",
    "\t\telif value == 5: #netcdf\n",
    "\t\t\tfilepath = '/home/cc/CDIACMetadataExtract/CDIACNETCDFExtracted/' + filename + 'NetCDFXtract' + file_to_index_dict[key] + '.json'\n",
    "\t\t\tcompleteness_scores[key] = completeness_score_netcdf(filepath)\n",
    "\t\treadability_scores[key] = readability_score(filepath)\n",
    "\t\tcount += 1\n",
    "\t#print(count)\n",
    "\treturn readability_scores, completeness_scores"
   ],
   "outputs": [],
   "metadata": {}
  },
  {
   "cell_type": "markdown",
   "source": [
    "# Readability"
   ],
   "metadata": {}
  },
  {
   "cell_type": "code",
   "execution_count": 18,
   "source": [
    "valid = 0\n",
    "readable = []\n",
    "for key, value in readability_scores.items():\n",
    "\tif value != 'no strings':\n",
    "\t\tvalid += 1\n",
    "\t\treadable.append(value)\n",
    "\n",
    "print(len(readable))\n",
    "avg_readability = sum(readable) / len(readable)\n",
    "print(avg_readability)"
   ],
   "outputs": [
    {
     "output_type": "stream",
     "name": "stdout",
     "text": [
      "63.84529411764701\n"
     ]
    }
   ],
   "metadata": {}
  },
  {
   "cell_type": "markdown",
   "source": [
    "# Completeness"
   ],
   "metadata": {}
  },
  {
   "cell_type": "code",
   "execution_count": 19,
   "source": [
    "complete = 0\n",
    "complete_valid = []\n",
    "\n",
    "for key, value in completeness_scores.items():\n",
    "\tcomplete += 1\n",
    "\n",
    "\tif complete > 0:\n",
    "\t\tcomplete_valid.append(value)\n",
    "\n",
    "\n",
    "print(len(complete_valid))\n",
    "\n",
    "avg_completeness = sum(complete_valid) / len(complete_valid)\n",
    "print(avg_readability)"
   ],
   "outputs": [
    {
     "output_type": "stream",
     "name": "stdout",
     "text": [
      "15392\n",
      "63.84529411764701\n"
     ]
    }
   ],
   "metadata": {}
  },
  {
   "cell_type": "markdown",
   "source": [
    "# Experimentation"
   ],
   "metadata": {}
  },
  {
   "cell_type": "code",
   "execution_count": 9,
   "source": [
    "with open(\"EstimateTime/file_to_index.json\", \"r\") as fp:\n",
    "\tfile_to_index_dict = json.load(fp)\n",
    "file_to_index_dict = dict(zip(file_to_index_dict.values(), file_to_index_dict.keys()))"
   ],
   "outputs": [],
   "metadata": {}
  },
  {
   "cell_type": "code",
   "execution_count": 49,
   "source": [
    "X = []\n",
    "Y_readability = []\n",
    "Y_completeness = []\n",
    "\n",
    "readability_total = dict()\n",
    "completeness_total = dict()\n",
    "\n",
    "average_readability = []\n",
    "average_completeness = []\n",
    "\n",
    "for subdir, dirs, files in os.walk(\"Experiments/\"):\n",
    "\tfor file in sorted(files):\n",
    "\t\tfilepath = os.path.join(subdir, file)\n",
    "\t\tthreshold = re.search(\"dequeue_list_threshold_(.*).json\", file).group(1)\n",
    "\t\tprint(\"Threshold: \", threshold)\n",
    "\t\tX.append(float(threshold))\n",
    "\t\twith open(filepath, \"r\") as fp:\n",
    "\t\t\tdequeue_list = json.load(fp)\n",
    "\t\treadability_scores, completeness_scores = get_metadata_metrics(dequeue_list, file_to_index_dict)\n",
    "\n",
    "\t\treadable_count = 0\n",
    "\t\treadable = []\n",
    "\t\tfor key, value in readability_scores.items():\n",
    "\t\t\tif value != 'no strings':\n",
    "\t\t\t\treadable_count += 1\n",
    "\t\t\t\treadable.append(value)\n",
    "\n",
    "\t\t#plt.boxplot(readable)\n",
    "\t\t#plt.show()\n",
    "\t\tY_readability.append(float(readable_count))\n",
    "\t\treadability_total[threshold] = readable\n",
    "\n",
    "\t\t#print(len(readable))\n",
    "\t\tavg_readability = sum(readable) / len(readable)\n",
    "\t\tprint(\"Readability: \", avg_readability)\n",
    "\t\taverage_readability.append(avg_readability)\n",
    "\n",
    "\t\tcomplete = 0\n",
    "\t\tcomplete_valid = []\n",
    "\n",
    "\t\tfor key, value in completeness_scores.items():\n",
    "\t\t\tcomplete += 1\n",
    "\t\t\tif complete > 0:\n",
    "\t\t\t\tcomplete_valid.append(value)\n",
    "\t\t\n",
    "\t\t#plt.boxplot(complete_valid)\n",
    "\t\t#plt.show()\n",
    "\t\tY_completeness.append(float(complete))\n",
    "\t\tcompleteness_total[threshold] = complete_valid\n",
    "\n",
    "\t\t#print(len(complete_valid))\n",
    "\t\tavg_completeness = sum(complete_valid) / len(complete_valid)\n",
    "\t\tprint(\"Completeness\", avg_completeness)\n",
    "\t\taverage_completeness.append(avg_completeness)\n",
    "\n",
    "X = np.asarray(X)\n",
    "Y_readability = np.asarray(Y_readability)\n",
    "Y_completeness = np.asarray(Y_completeness)\n",
    "\n",
    "plt.title(\"Percent Extracted v. Readability\")\n",
    "plt.xlabel(\"Percent Extracted\")\n",
    "plt.ylabel(\"Readability Score\")\n",
    "plt.scatter(X, Y_readability)\n",
    "plt.show()\n",
    "\n",
    "plt.title(\"Percent Extracted v. Completeness\")\n",
    "plt.xlabel(\"Percent Extracted\")\n",
    "plt.ylabel(\"Completeness Score\")\n",
    "plt.scatter(X, Y_completeness)\n",
    "plt.show()\n",
    "\n",
    "\n",
    "\n"
   ],
   "outputs": [
    {
     "output_type": "stream",
     "name": "stdout",
     "text": [
      "Threshold:  0.1\n",
      "2036\n",
      "Readability:  75.87500000000001\n",
      "Completeness 0.21921386294708142\n",
      "Threshold:  0.2\n",
      "4073\n",
      "Readability:  75.87500000000001\n",
      "Completeness 0.18436845614815475\n",
      "Threshold:  0.3\n",
      "6110\n",
      "Readability:  73.44041666666666\n",
      "Completeness 0.19075160408533118\n",
      "Threshold:  0.4\n",
      "8147\n",
      "Readability:  72.679609375\n",
      "Completeness 0.20926526163381962\n",
      "Threshold:  0.5\n",
      "10184\n",
      "Readability:  72.1187857142857\n",
      "Completeness 0.20980446874032485\n",
      "Threshold:  0.6\n",
      "12221\n",
      "Readability:  71.766640625\n",
      "Completeness 0.19887011770736546\n",
      "Threshold:  0.7\n",
      "14258\n",
      "Readability:  66.33954861111107\n",
      "Completeness 0.18392986362620484\n",
      "Threshold:  0.8\n",
      "16295\n",
      "Readability:  63.73498310810806\n",
      "Completeness 0.1755095950238675\n",
      "Threshold:  0.9\n",
      "18332\n",
      "Readability:  64.32488372093019\n",
      "Completeness 0.17008006953151605\n",
      "Threshold:  1\n",
      "20369\n",
      "Readability:  64.45013966480442\n",
      "Completeness 0.17513571000419065\n"
     ]
    },
    {
     "output_type": "display_data",
     "data": {
      "text/plain": [
       "<Figure size 432x288 with 1 Axes>"
      ],
      "image/png": "[encoded data removed]"
     },
     "metadata": {
      "needs_background": "light"
     }
    },
    {
     "output_type": "display_data",
     "data": {
      "text/plain": [
       "<Figure size 432x288 with 1 Axes>"
      ],
      "image/png": "[encoded data removed]"
     },
     "metadata": {
      "needs_background": "light"
     }
    }
   ],
   "metadata": {}
  },
  {
   "cell_type": "code",
   "execution_count": 51,
   "source": [
    "plt.scatter(X, average_readability)\n",
    "plt.xlabel(\"Percent Extracted\")\n",
    "plt.ylabel(\"Average Readability\")\n",
    "plt.title(\"Percent Extracted vs Avg Readability\")\n",
    "plt.show()\n",
    "\n",
    "plt.scatter(X, average_completeness)\n",
    "plt.xlabel(\"Percent Extracted\")\n",
    "plt.ylabel(\"Average Completeness\")\n",
    "plt.title(\"Percent Extracted vs Avg Completeness\")\n",
    "plt.show()"
   ],
   "outputs": [
    {
     "output_type": "display_data",
     "data": {
      "text/plain": [
       "<Figure size 432x288 with 1 Axes>"
      ],
      "image/png": "[encoded data removed]"
     },
     "metadata": {
      "needs_background": "light"
     }
    },
    {
     "output_type": "display_data",
     "data": {
      "text/plain": [
       "<Figure size 432x288 with 1 Axes>"
      ],
      "image/png": "[encoded data removed]"
     },
     "metadata": {
      "needs_background": "light"
     }
    }
   ],
   "metadata": {}
  },
  {
   "cell_type": "code",
   "execution_count": 47,
   "source": [
    "labels, data = [*zip(*readability_total.items())]  # 'transpose' items to parallel key, value lists\n",
    "#for d in data:\n",
    "\t#print(d)\n",
    "plt.boxplot(data, meanline=True)\n",
    "plt.xticks(range(1, len(labels) + 1), labels)\n",
    "\n",
    "plt.title(\"Box and Whisker plots of Percent Extract vs. Readability Scores\")\n",
    "plt.xlabel(\"Percent Extracted\")\n",
    "plt.ylabel(\"Readability Score\")\n",
    "plt.show()\n",
    "\n",
    "labels, data = [*zip(*completeness_total.items())]  # 'transpose' items to parallel key, value lists\n",
    "plt.boxplot(data)\n",
    "plt.xticks(range(1, len(labels) + 1), labels)\n",
    "plt.xlabel(\"Percent Extracted\")\n",
    "plt.ylabel(\"Completeness Score\")\n",
    "plt.title(\"Box and Whisker plots of Percent Extract vs. Completeness Scores\")\n",
    "plt.show()\n",
    "\n"
   ],
   "outputs": [
    {
     "output_type": "display_data",
     "data": {
      "text/plain": [
       "<Figure size 432x288 with 1 Axes>"
      ],
      "image/png": "[encoded data removed]"
     },
     "metadata": {
      "needs_background": "light"
     }
    },
    {
     "output_type": "display_data",
     "data": {
      "text/plain": [
       "<Figure size 432x288 with 1 Axes>"
      ],
      "image/png": "[encoded data removed]"
     },
     "metadata": {
      "needs_background": "light"
     }
    }
   ],
   "metadata": {}
  },
  {
   "cell_type": "code",
   "execution_count": null,
   "source": [],
   "outputs": [],
   "metadata": {}
  },
  {
   "cell_type": "code",
   "execution_count": null,
   "source": [],
   "outputs": [],
   "metadata": {}
  }
 ],
 "metadata": {
  "orig_nbformat": 4,
  "language_info": {
   "name": "python",
   "version": "3.8.5",
   "mimetype": "text/x-python",
   "codemirror_mode": {
    "name": "ipython",
    "version": 3
   },
   "pygments_lexer": "ipython3",
   "nbconvert_exporter": "python",
   "file_extension": ".py"
  },
  "kernelspec": {
   "name": "python3",
   "display_name": "Python 3.8.5 64-bit"
  },
  "interpreter": {
   "hash": "e7370f93d1d0cde622a1f8e1c04877d8463912d04d973331ad4851f04de6915a"
  }
 },
 "nbformat": 4,
 "nbformat_minor": 2
}