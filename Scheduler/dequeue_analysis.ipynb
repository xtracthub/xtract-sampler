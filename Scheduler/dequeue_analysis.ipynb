{
 "cells": [
  {
   "cell_type": "code",
   "execution_count": 15,
   "source": [
    "import json\n",
    "from metadata_metrics import readability_score, completeness_score_img, completeness_score_jsonxml, completeness_score_keyword, completeness_score_netcdf, completeness_score_tabular"
   ],
   "outputs": [],
   "metadata": {}
  },
  {
   "cell_type": "code",
   "execution_count": 16,
   "source": [
    "with open(\"dequeue_list.json\", \"r\") as fp:\n",
    "\tdequeue_list = json.load(fp)\n",
    "with open(\"EstimateTime/file_to_index.json\", \"r\") as fp:\n",
    "\tfile_to_index_dict = json.load(fp)\n",
    "file_to_index_dict = new_dict = dict(zip(file_to_index_dict.values(), file_to_index_dict.keys()))"
   ],
   "outputs": [],
   "metadata": {}
  },
  {
   "cell_type": "code",
   "execution_count": 17,
   "source": [
    "readability_scores = dict()\n",
    "completeness_scores = dict()\n",
    "count = 0\n",
    "for key, value in dequeue_list.items():\n",
    "\tparsed_key = key.split(\"/\")\n",
    "\tfilename = parsed_key[len(parsed_key) - 1]\n",
    "\tif value == 1: # keyword\n",
    "\t\tfilepath = '/home/cc/CDIACMetadataExtract/CDIACKeywordExtract/' + filename + 'KWXtract' + file_to_index_dict[key] + '.json'\n",
    "\t\tcompleteness_scores[key] = completeness_score_keyword(filepath)\n",
    "\telif value == 2: # tabular\n",
    "\t\tfilepath = '/home/cc/CDIACMetadataExtract/CDIACTabularExtracted/' + filename +  'TabXtract' + file_to_index_dict[key] + '.json'\n",
    "\t\tcompleteness_scores[key] = completeness_score_tabular(filepath)\n",
    "\t#elif value == 3: # unknown\n",
    "\t#\tfilepath = '/home/cc/CDIACMetadataExtract/CDIACKeywordExtract/' + key + file_to_index_dict[key] + 'KWXtract.json'\n",
    "\telif value == 4: #json/xml\n",
    "\t\tfilepath = '/home/cc/CDIACMetadataExtract/CDIACJSONXMLExtracted/' + filename + 'JSONXMLXtract' + file_to_index_dict[key] + '.json'\n",
    "\t\tcompleteness_scores[key] = completeness_score_jsonxml(filepath)\n",
    "\telif value == 5: #netcdf\n",
    "\t\tfilepath = '/home/cc/CDIACMetadataExtract/CDIACNETCDFExtracted/' + filename + 'NetCDFXtract' + file_to_index_dict[key] + '.json'\n",
    "\t\tcompleteness_scores[key] = completeness_score_netcdf(filepath)\n",
    "\treadability_scores[key] = readability_score(filepath)\n",
    "\tcount += 1\n",
    "print(count)\n"
   ],
   "outputs": [
    {
     "output_type": "stream",
     "name": "stdout",
     "text": [
      "20296\n"
     ]
    }
   ],
   "metadata": {}
  },
  {
   "cell_type": "markdown",
   "source": [
    "# Readability"
   ],
   "metadata": {}
  },
  {
   "cell_type": "code",
   "execution_count": 18,
   "source": [
    "readibility_list = list(readability_scores.values())\n",
    "valid = 0\n",
    "readable = []\n",
    "for key, value in readability_scores.items():\n",
    "\tif value != 'no strings':\n",
    "\t\tvalid += 1\n",
    "\t\treadable.append(value)\n",
    "\n",
    "print(len(readable))\n",
    "avg_readability = sum(readable) / len(readable)\n",
    "print(avg_readability)"
   ],
   "outputs": [
    {
     "output_type": "stream",
     "name": "stdout",
     "text": [
      "63.84529411764701\n"
     ]
    }
   ],
   "metadata": {}
  },
  {
   "cell_type": "code",
   "execution_count": 19,
   "source": [
    "complete = 0\n",
    "complete_valid = []\n",
    "\n",
    "for key, value in completeness_scores.items():\n",
    "\tcomplete += 1\n",
    "\n",
    "\tif complete > 0:\n",
    "\t\tcomplete_valid.append(value)\n",
    "\n",
    "\n",
    "print(len(complete_valid))\n",
    "\n",
    "avg_completeness = sum(complete_valid) / len(complete_valid)\n",
    "print(avg_readability)"
   ],
   "outputs": [
    {
     "output_type": "stream",
     "name": "stdout",
     "text": [
      "15392\n",
      "63.84529411764701\n"
     ]
    }
   ],
   "metadata": {}
  },
  {
   "cell_type": "code",
   "execution_count": null,
   "source": [],
   "outputs": [],
   "metadata": {}
  }
 ],
 "metadata": {
  "orig_nbformat": 4,
  "language_info": {
   "name": "python",
   "version": "3.8.10",
   "mimetype": "text/x-python",
   "codemirror_mode": {
    "name": "ipython",
    "version": 3
   },
   "pygments_lexer": "ipython3",
   "nbconvert_exporter": "python",
   "file_extension": ".py"
  },
  "kernelspec": {
   "name": "python3",
   "display_name": "Python 3.8.10 64-bit"
  },
  "interpreter": {
   "hash": "e7370f93d1d0cde622a1f8e1c04877d8463912d04d973331ad4851f04de6915a"
  }
 },
 "nbformat": 4,
 "nbformat_minor": 2
}